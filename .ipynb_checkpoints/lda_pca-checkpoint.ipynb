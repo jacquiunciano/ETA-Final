{
 "cells": [
  {
   "cell_type": "markdown",
   "id": "1b761dc7-46ba-42db-a244-8b667321f111",
   "metadata": {},
   "source": [
    "### Jacqui Unciano (jdu5sq@virginia.edu) DS 5001 Spring 2024"
   ]
  },
  {
   "cell_type": "markdown",
   "id": "6729a5e6-7623-43cd-867f-446c9278335a",
   "metadata": {},
   "source": [
    "### Importing"
   ]
  },
  {
   "cell_type": "code",
   "execution_count": 1,
   "id": "7449067a-af15-41c4-b11b-ea674b085bbd",
   "metadata": {},
   "outputs": [],
   "source": [
    "from sklearn.decomposition import PCA\n",
    "import pandas as pd\n",
    "import numpy as np\n",
    "import plotly_express as px\n",
    "import seaborn as sns\n",
    "sns.set(style='ticks')\n",
    "\n",
    "import configparser\n",
    "config = configparser.ConfigParser()\n",
    "\n",
    "config.read(\"../final_project_files/env.ini\")\n",
    "data_home = config['DEFAULT']['data_home']\n",
    "output_dir = config['DEFAULT']['output_dir']"
   ]
  },
  {
   "cell_type": "code",
   "execution_count": 2,
   "id": "a4564083-6550-406c-afbf-069c8ee65e25",
   "metadata": {},
   "outputs": [],
   "source": [
    "PHI = pd.read_csv(f\"{output_dir}\\\\PHI.csv\").set_index('topic_id')"
   ]
  },
  {
   "cell_type": "markdown",
   "id": "338c538f-598d-44d7-9440-99d7d92a870f",
   "metadata": {},
   "source": [
    "### PCA Components"
   ]
  },
  {
   "cell_type": "code",
   "execution_count": 3,
   "id": "e3dbb046-4e08-40ec-a708-7c3475ffa802",
   "metadata": {},
   "outputs": [
    {
     "data": {
      "image/png": "[encoded data removed]",
      "text/plain": [
       "<Figure size 800x400 with 1 Axes>"
      ]
     },
     "metadata": {},
     "output_type": "display_data"
    }
   ],
   "source": [
    "import numpy as np\n",
    "import matplotlib.pyplot as plt\n",
    "\n",
    "X = PHI.fillna(0)\n",
    "\n",
    "pca = PCA(n_components=10).fit(X)\n",
    "\n",
    "# Eigenvalues\n",
    "eigenvalues = pca.explained_variance_\n",
    "\n",
    "# Creating a Scree plot\n",
    "plt.figure(figsize=(8, 4))\n",
    "plt.plot(range(1, len(eigenvalues) + 1), eigenvalues, 'o-')\n",
    "plt.title('Scree Plot')\n",
    "plt.xlabel('Principal Component')\n",
    "plt.ylabel('Eigenvalue')\n",
    "\n",
    "# Optional: Add a line to emphasize the \"elbow\"\n",
    "plt.axvline(x=2, color='r', linestyle='--')\n",
    "\n",
    "plt.grid(True)\n",
    "plt.show()"
   ]
  },
  {
   "cell_type": "code",
   "execution_count": 4,
   "id": "2091e186-234e-48f4-9972-b686f4233c71",
   "metadata": {},
   "outputs": [],
   "source": [
    "n_comps = 2\n",
    "pca_engine = PCA(n_components=n_comps)"
   ]
  },
  {
   "cell_type": "code",
   "execution_count": 5,
   "id": "15b19972-af57-4423-ba2e-a6027a126a49",
   "metadata": {},
   "outputs": [],
   "source": [
    "pca = pca_engine.fit_transform(PHI.fillna(0))"
   ]
  },
  {
   "cell_type": "markdown",
   "id": "d69be23c-03bd-41e6-b0f6-0c4176c8a772",
   "metadata": {},
   "source": [
    "### DCM"
   ]
  },
  {
   "cell_type": "code",
   "execution_count": 6,
   "id": "b71f051c-94bf-41f2-b084-e03dc19d438a",
   "metadata": {},
   "outputs": [],
   "source": [
    "DCM = pd.DataFrame(pca, index=PHI.index)\n",
    "DCM.columns = ['PC{}'.format(i) for i in DCM.columns]"
   ]
  },
  {
   "cell_type": "code",
   "execution_count": 7,
   "id": "458d26ff-9647-431c-92d4-cd042b89e247",
   "metadata": {},
   "outputs": [
    {
     "data": {
      "text/html": [
       "<div>\n",
       "<style scoped>\n",
       "    .dataframe tbody tr th:only-of-type {\n",
       "        vertical-align: middle;\n",
       "    }\n",
       "\n",
       "    .dataframe tbody tr th {\n",
       "        vertical-align: top;\n",
       "    }\n",
       "\n",
       "    .dataframe thead th {\n",
       "        text-align: right;\n",
       "    }\n",
       "</style>\n",
       "<table border=\"1\" class=\"dataframe\">\n",
       "  <thead>\n",
       "    <tr style=\"text-align: right;\">\n",
       "      <th></th>\n",
       "      <th>PC0</th>\n",
       "      <th>PC1</th>\n",
       "    </tr>\n",
       "    <tr>\n",
       "      <th>topic_id</th>\n",
       "      <th></th>\n",
       "      <th></th>\n",
       "    </tr>\n",
       "  </thead>\n",
       "  <tbody>\n",
       "    <tr>\n",
       "      <th>T00</th>\n",
       "      <td>-418.088919</td>\n",
       "      <td>-47.241580</td>\n",
       "    </tr>\n",
       "    <tr>\n",
       "      <th>T01</th>\n",
       "      <td>-415.131256</td>\n",
       "      <td>-46.639070</td>\n",
       "    </tr>\n",
       "    <tr>\n",
       "      <th>T02</th>\n",
       "      <td>319.591138</td>\n",
       "      <td>-114.258580</td>\n",
       "    </tr>\n",
       "    <tr>\n",
       "      <th>T03</th>\n",
       "      <td>-415.603234</td>\n",
       "      <td>-45.870182</td>\n",
       "    </tr>\n",
       "    <tr>\n",
       "      <th>T04</th>\n",
       "      <td>-112.893050</td>\n",
       "      <td>65.863975</td>\n",
       "    </tr>\n",
       "  </tbody>\n",
       "</table>\n",
       "</div>"
      ],
      "text/plain": [
       "                 PC0         PC1\n",
       "topic_id                        \n",
       "T00      -418.088919  -47.241580\n",
       "T01      -415.131256  -46.639070\n",
       "T02       319.591138 -114.258580\n",
       "T03      -415.603234  -45.870182\n",
       "T04      -112.893050   65.863975"
      ]
     },
     "execution_count": 7,
     "metadata": {},
     "output_type": "execute_result"
    }
   ],
   "source": [
    "# DCM = pd.concat([DCM, DCM, DCM]).reset_index()\n",
    "DCM.head()"
   ]
  },
  {
   "cell_type": "markdown",
   "id": "3f553391-aa19-4deb-9150-0c3769acc6c4",
   "metadata": {},
   "source": [
    "### Setup THETA"
   ]
  },
  {
   "cell_type": "code",
   "execution_count": 8,
   "id": "96f749b7-164f-416e-9cd1-00832a445d38",
   "metadata": {},
   "outputs": [],
   "source": [
    "OHCO = ['book_title', 'chap_num']\n",
    "THETA = pd.read_csv(f\"{output_dir}\\\\THETA.csv\").set_index(OHCO)\n",
    "LIB = pd.read_csv(f\"{output_dir}\\\\LIB_LABELS.csv\").set_index(OHCO[:1])[['series','label']]"
   ]
  },
  {
   "cell_type": "code",
   "execution_count": 9,
   "id": "18f0cc5d-0a11-4b6d-b965-2988977e5ca4",
   "metadata": {},
   "outputs": [
    {
     "data": {
      "text/html": [
       "<div>\n",
       "<style scoped>\n",
       "    .dataframe tbody tr th:only-of-type {\n",
       "        vertical-align: middle;\n",
       "    }\n",
       "\n",
       "    .dataframe tbody tr th {\n",
       "        vertical-align: top;\n",
       "    }\n",
       "\n",
       "    .dataframe thead th {\n",
       "        text-align: right;\n",
       "    }\n",
       "</style>\n",
       "<table border=\"1\" class=\"dataframe\">\n",
       "  <thead>\n",
       "    <tr style=\"text-align: right;\">\n",
       "      <th></th>\n",
       "      <th></th>\n",
       "      <th>T00</th>\n",
       "      <th>T01</th>\n",
       "      <th>T02</th>\n",
       "      <th>T03</th>\n",
       "      <th>T04</th>\n",
       "      <th>T05</th>\n",
       "      <th>T06</th>\n",
       "      <th>T07</th>\n",
       "      <th>T08</th>\n",
       "      <th>T09</th>\n",
       "      <th>T10</th>\n",
       "      <th>T11</th>\n",
       "      <th>T12</th>\n",
       "      <th>T13</th>\n",
       "      <th>T14</th>\n",
       "      <th>T15</th>\n",
       "      <th>T16</th>\n",
       "      <th>T17</th>\n",
       "      <th>T18</th>\n",
       "      <th>T19</th>\n",
       "    </tr>\n",
       "    <tr>\n",
       "      <th>book_title</th>\n",
       "      <th>chap_num</th>\n",
       "      <th></th>\n",
       "      <th></th>\n",
       "      <th></th>\n",
       "      <th></th>\n",
       "      <th></th>\n",
       "      <th></th>\n",
       "      <th></th>\n",
       "      <th></th>\n",
       "      <th></th>\n",
       "      <th></th>\n",
       "      <th></th>\n",
       "      <th></th>\n",
       "      <th></th>\n",
       "      <th></th>\n",
       "      <th></th>\n",
       "      <th></th>\n",
       "      <th></th>\n",
       "      <th></th>\n",
       "      <th></th>\n",
       "      <th></th>\n",
       "    </tr>\n",
       "  </thead>\n",
       "  <tbody>\n",
       "    <tr>\n",
       "      <th rowspan=\"2\" valign=\"top\">01_a_game_of_thrones</th>\n",
       "      <th>1</th>\n",
       "      <td>0.000197</td>\n",
       "      <td>0.000197</td>\n",
       "      <td>0.000197</td>\n",
       "      <td>0.000197</td>\n",
       "      <td>0.000197</td>\n",
       "      <td>0.000197</td>\n",
       "      <td>0.000197</td>\n",
       "      <td>0.000197</td>\n",
       "      <td>0.000197</td>\n",
       "      <td>0.000197</td>\n",
       "      <td>0.000197</td>\n",
       "      <td>0.000197</td>\n",
       "      <td>0.000197</td>\n",
       "      <td>0.000197</td>\n",
       "      <td>0.000197</td>\n",
       "      <td>0.996260</td>\n",
       "      <td>0.000197</td>\n",
       "      <td>0.000197</td>\n",
       "      <td>0.000197</td>\n",
       "      <td>0.000197</td>\n",
       "    </tr>\n",
       "    <tr>\n",
       "      <th>2</th>\n",
       "      <td>0.000345</td>\n",
       "      <td>0.000345</td>\n",
       "      <td>0.000345</td>\n",
       "      <td>0.000345</td>\n",
       "      <td>0.000345</td>\n",
       "      <td>0.000345</td>\n",
       "      <td>0.000345</td>\n",
       "      <td>0.000345</td>\n",
       "      <td>0.000345</td>\n",
       "      <td>0.000345</td>\n",
       "      <td>0.000345</td>\n",
       "      <td>0.463823</td>\n",
       "      <td>0.000345</td>\n",
       "      <td>0.000345</td>\n",
       "      <td>0.000345</td>\n",
       "      <td>0.529971</td>\n",
       "      <td>0.000345</td>\n",
       "      <td>0.000345</td>\n",
       "      <td>0.000345</td>\n",
       "      <td>0.000345</td>\n",
       "    </tr>\n",
       "  </tbody>\n",
       "</table>\n",
       "</div>"
      ],
      "text/plain": [
       "                                    T00       T01       T02       T03  \\\n",
       "book_title           chap_num                                           \n",
       "01_a_game_of_thrones 1         0.000197  0.000197  0.000197  0.000197   \n",
       "                     2         0.000345  0.000345  0.000345  0.000345   \n",
       "\n",
       "                                    T04       T05       T06       T07  \\\n",
       "book_title           chap_num                                           \n",
       "01_a_game_of_thrones 1         0.000197  0.000197  0.000197  0.000197   \n",
       "                     2         0.000345  0.000345  0.000345  0.000345   \n",
       "\n",
       "                                    T08       T09       T10       T11  \\\n",
       "book_title           chap_num                                           \n",
       "01_a_game_of_thrones 1         0.000197  0.000197  0.000197  0.000197   \n",
       "                     2         0.000345  0.000345  0.000345  0.463823   \n",
       "\n",
       "                                    T12       T13       T14       T15  \\\n",
       "book_title           chap_num                                           \n",
       "01_a_game_of_thrones 1         0.000197  0.000197  0.000197  0.996260   \n",
       "                     2         0.000345  0.000345  0.000345  0.529971   \n",
       "\n",
       "                                    T16       T17       T18       T19  \n",
       "book_title           chap_num                                          \n",
       "01_a_game_of_thrones 1         0.000197  0.000197  0.000197  0.000197  \n",
       "                     2         0.000345  0.000345  0.000345  0.000345  "
      ]
     },
     "execution_count": 9,
     "metadata": {},
     "output_type": "execute_result"
    }
   ],
   "source": [
    "THETA.head(2)"
   ]
  },
  {
   "cell_type": "code",
   "execution_count": 10,
   "id": "06728e25-26fa-44e0-a8db-3e2bcb855035",
   "metadata": {},
   "outputs": [
    {
     "data": {
      "text/html": [
       "<div>\n",
       "<style scoped>\n",
       "    .dataframe tbody tr th:only-of-type {\n",
       "        vertical-align: middle;\n",
       "    }\n",
       "\n",
       "    .dataframe tbody tr th {\n",
       "        vertical-align: top;\n",
       "    }\n",
       "\n",
       "    .dataframe thead th {\n",
       "        text-align: right;\n",
       "    }\n",
       "</style>\n",
       "<table border=\"1\" class=\"dataframe\">\n",
       "  <thead>\n",
       "    <tr style=\"text-align: right;\">\n",
       "      <th></th>\n",
       "      <th>series</th>\n",
       "      <th>label</th>\n",
       "    </tr>\n",
       "    <tr>\n",
       "      <th>book_title</th>\n",
       "      <th></th>\n",
       "      <th></th>\n",
       "    </tr>\n",
       "  </thead>\n",
       "  <tbody>\n",
       "    <tr>\n",
       "      <th>01_a_game_of_thrones</th>\n",
       "      <td>ASOIAF</td>\n",
       "      <td>George R.R. Martin: 01_a_game_of_thrones (1996)</td>\n",
       "    </tr>\n",
       "    <tr>\n",
       "      <th>01_into_the_wild</th>\n",
       "      <td>Warrior_Cats</td>\n",
       "      <td>Kate Cary: 01_into_the_wild (2003)</td>\n",
       "    </tr>\n",
       "  </tbody>\n",
       "</table>\n",
       "</div>"
      ],
      "text/plain": [
       "                            series  \\\n",
       "book_title                           \n",
       "01_a_game_of_thrones        ASOIAF   \n",
       "01_into_the_wild      Warrior_Cats   \n",
       "\n",
       "                                                                label  \n",
       "book_title                                                             \n",
       "01_a_game_of_thrones  George R.R. Martin: 01_a_game_of_thrones (1996)  \n",
       "01_into_the_wild                   Kate Cary: 01_into_the_wild (2003)  "
      ]
     },
     "execution_count": 10,
     "metadata": {},
     "output_type": "execute_result"
    }
   ],
   "source": [
    "LIB.head(2)"
   ]
  },
  {
   "cell_type": "code",
   "execution_count": 11,
   "id": "6779b42f-2ceb-4a82-9d07-c1f8cfd7c560",
   "metadata": {},
   "outputs": [
    {
     "data": {
      "text/html": [
       "<div>\n",
       "<style scoped>\n",
       "    .dataframe tbody tr th:only-of-type {\n",
       "        vertical-align: middle;\n",
       "    }\n",
       "\n",
       "    .dataframe tbody tr th {\n",
       "        vertical-align: top;\n",
       "    }\n",
       "\n",
       "    .dataframe thead tr th {\n",
       "        text-align: left;\n",
       "    }\n",
       "\n",
       "    .dataframe thead tr:last-of-type th {\n",
       "        text-align: right;\n",
       "    }\n",
       "</style>\n",
       "<table border=\"1\" class=\"dataframe\">\n",
       "  <thead>\n",
       "    <tr>\n",
       "      <th>book_title</th>\n",
       "      <th colspan=\"10\" halign=\"left\">01_a_game_of_thrones</th>\n",
       "      <th>...</th>\n",
       "      <th colspan=\"10\" halign=\"left\">07_the_fire_ascending</th>\n",
       "    </tr>\n",
       "    <tr>\n",
       "      <th>chap_num</th>\n",
       "      <th>1</th>\n",
       "      <th>2</th>\n",
       "      <th>3</th>\n",
       "      <th>4</th>\n",
       "      <th>5</th>\n",
       "      <th>6</th>\n",
       "      <th>7</th>\n",
       "      <th>8</th>\n",
       "      <th>9</th>\n",
       "      <th>10</th>\n",
       "      <th>...</th>\n",
       "      <th>20</th>\n",
       "      <th>21</th>\n",
       "      <th>22</th>\n",
       "      <th>23</th>\n",
       "      <th>24</th>\n",
       "      <th>25</th>\n",
       "      <th>26</th>\n",
       "      <th>27</th>\n",
       "      <th>28</th>\n",
       "      <th>29</th>\n",
       "    </tr>\n",
       "    <tr>\n",
       "      <th>series</th>\n",
       "      <th>ASOIAF</th>\n",
       "      <th>ASOIAF</th>\n",
       "      <th>ASOIAF</th>\n",
       "      <th>ASOIAF</th>\n",
       "      <th>ASOIAF</th>\n",
       "      <th>ASOIAF</th>\n",
       "      <th>ASOIAF</th>\n",
       "      <th>ASOIAF</th>\n",
       "      <th>ASOIAF</th>\n",
       "      <th>ASOIAF</th>\n",
       "      <th>...</th>\n",
       "      <th>Last_Dragon_Chronicles</th>\n",
       "      <th>Last_Dragon_Chronicles</th>\n",
       "      <th>Last_Dragon_Chronicles</th>\n",
       "      <th>Last_Dragon_Chronicles</th>\n",
       "      <th>Last_Dragon_Chronicles</th>\n",
       "      <th>Last_Dragon_Chronicles</th>\n",
       "      <th>Last_Dragon_Chronicles</th>\n",
       "      <th>Last_Dragon_Chronicles</th>\n",
       "      <th>Last_Dragon_Chronicles</th>\n",
       "      <th>Last_Dragon_Chronicles</th>\n",
       "    </tr>\n",
       "    <tr>\n",
       "      <th>label</th>\n",
       "      <th>George R.R. Martin: 01_a_game_of_thrones (1996)</th>\n",
       "      <th>George R.R. Martin: 01_a_game_of_thrones (1996)</th>\n",
       "      <th>George R.R. Martin: 01_a_game_of_thrones (1996)</th>\n",
       "      <th>George R.R. Martin: 01_a_game_of_thrones (1996)</th>\n",
       "      <th>George R.R. Martin: 01_a_game_of_thrones (1996)</th>\n",
       "      <th>George R.R. Martin: 01_a_game_of_thrones (1996)</th>\n",
       "      <th>George R.R. Martin: 01_a_game_of_thrones (1996)</th>\n",
       "      <th>George R.R. Martin: 01_a_game_of_thrones (1996)</th>\n",
       "      <th>George R.R. Martin: 01_a_game_of_thrones (1996)</th>\n",
       "      <th>George R.R. Martin: 01_a_game_of_thrones (1996)</th>\n",
       "      <th>...</th>\n",
       "      <th>Chris D'Lacey: 07_the_fire_ascendin (2013)</th>\n",
       "      <th>Chris D'Lacey: 07_the_fire_ascendin (2013)</th>\n",
       "      <th>Chris D'Lacey: 07_the_fire_ascendin (2013)</th>\n",
       "      <th>Chris D'Lacey: 07_the_fire_ascendin (2013)</th>\n",
       "      <th>Chris D'Lacey: 07_the_fire_ascendin (2013)</th>\n",
       "      <th>Chris D'Lacey: 07_the_fire_ascendin (2013)</th>\n",
       "      <th>Chris D'Lacey: 07_the_fire_ascendin (2013)</th>\n",
       "      <th>Chris D'Lacey: 07_the_fire_ascendin (2013)</th>\n",
       "      <th>Chris D'Lacey: 07_the_fire_ascendin (2013)</th>\n",
       "      <th>Chris D'Lacey: 07_the_fire_ascendin (2013)</th>\n",
       "    </tr>\n",
       "    <tr>\n",
       "      <th>topic_id</th>\n",
       "      <th></th>\n",
       "      <th></th>\n",
       "      <th></th>\n",
       "      <th></th>\n",
       "      <th></th>\n",
       "      <th></th>\n",
       "      <th></th>\n",
       "      <th></th>\n",
       "      <th></th>\n",
       "      <th></th>\n",
       "      <th></th>\n",
       "      <th></th>\n",
       "      <th></th>\n",
       "      <th></th>\n",
       "      <th></th>\n",
       "      <th></th>\n",
       "      <th></th>\n",
       "      <th></th>\n",
       "      <th></th>\n",
       "      <th></th>\n",
       "      <th></th>\n",
       "    </tr>\n",
       "  </thead>\n",
       "  <tbody>\n",
       "    <tr>\n",
       "      <th>T00</th>\n",
       "      <td>0.000197</td>\n",
       "      <td>0.000345</td>\n",
       "      <td>0.000463</td>\n",
       "      <td>0.000207</td>\n",
       "      <td>0.000269</td>\n",
       "      <td>0.000256</td>\n",
       "      <td>0.000357</td>\n",
       "      <td>0.00037</td>\n",
       "      <td>0.000329</td>\n",
       "      <td>0.000403</td>\n",
       "      <td>...</td>\n",
       "      <td>0.001042</td>\n",
       "      <td>0.001163</td>\n",
       "      <td>0.00051</td>\n",
       "      <td>0.000365</td>\n",
       "      <td>0.002273</td>\n",
       "      <td>0.231288</td>\n",
       "      <td>0.000345</td>\n",
       "      <td>0.000847</td>\n",
       "      <td>0.000221</td>\n",
       "      <td>0.000725</td>\n",
       "    </tr>\n",
       "    <tr>\n",
       "      <th>T01</th>\n",
       "      <td>0.000197</td>\n",
       "      <td>0.000345</td>\n",
       "      <td>0.000463</td>\n",
       "      <td>0.000207</td>\n",
       "      <td>0.000269</td>\n",
       "      <td>0.000256</td>\n",
       "      <td>0.000357</td>\n",
       "      <td>0.00037</td>\n",
       "      <td>0.000329</td>\n",
       "      <td>0.000403</td>\n",
       "      <td>...</td>\n",
       "      <td>0.001042</td>\n",
       "      <td>0.001163</td>\n",
       "      <td>0.00051</td>\n",
       "      <td>0.000365</td>\n",
       "      <td>0.002273</td>\n",
       "      <td>0.001250</td>\n",
       "      <td>0.000345</td>\n",
       "      <td>0.000847</td>\n",
       "      <td>0.000221</td>\n",
       "      <td>0.000725</td>\n",
       "    </tr>\n",
       "    <tr>\n",
       "      <th>T02</th>\n",
       "      <td>0.000197</td>\n",
       "      <td>0.000345</td>\n",
       "      <td>0.000463</td>\n",
       "      <td>0.000207</td>\n",
       "      <td>0.000269</td>\n",
       "      <td>0.000256</td>\n",
       "      <td>0.000357</td>\n",
       "      <td>0.00037</td>\n",
       "      <td>0.000329</td>\n",
       "      <td>0.000403</td>\n",
       "      <td>...</td>\n",
       "      <td>0.001042</td>\n",
       "      <td>0.001163</td>\n",
       "      <td>0.00051</td>\n",
       "      <td>0.000365</td>\n",
       "      <td>0.002273</td>\n",
       "      <td>0.001250</td>\n",
       "      <td>0.000345</td>\n",
       "      <td>0.000847</td>\n",
       "      <td>0.000221</td>\n",
       "      <td>0.000725</td>\n",
       "    </tr>\n",
       "    <tr>\n",
       "      <th>T03</th>\n",
       "      <td>0.000197</td>\n",
       "      <td>0.000345</td>\n",
       "      <td>0.000463</td>\n",
       "      <td>0.000207</td>\n",
       "      <td>0.000269</td>\n",
       "      <td>0.000256</td>\n",
       "      <td>0.000357</td>\n",
       "      <td>0.00037</td>\n",
       "      <td>0.000329</td>\n",
       "      <td>0.000403</td>\n",
       "      <td>...</td>\n",
       "      <td>0.001042</td>\n",
       "      <td>0.442010</td>\n",
       "      <td>0.00051</td>\n",
       "      <td>0.000365</td>\n",
       "      <td>0.002273</td>\n",
       "      <td>0.001250</td>\n",
       "      <td>0.000345</td>\n",
       "      <td>0.000847</td>\n",
       "      <td>0.000221</td>\n",
       "      <td>0.000725</td>\n",
       "    </tr>\n",
       "    <tr>\n",
       "      <th>T04</th>\n",
       "      <td>0.000197</td>\n",
       "      <td>0.000345</td>\n",
       "      <td>0.000463</td>\n",
       "      <td>0.000207</td>\n",
       "      <td>0.000269</td>\n",
       "      <td>0.000256</td>\n",
       "      <td>0.000357</td>\n",
       "      <td>0.00037</td>\n",
       "      <td>0.106951</td>\n",
       "      <td>0.000403</td>\n",
       "      <td>...</td>\n",
       "      <td>0.980208</td>\n",
       "      <td>0.001163</td>\n",
       "      <td>0.12222</td>\n",
       "      <td>0.000365</td>\n",
       "      <td>0.002273</td>\n",
       "      <td>0.001250</td>\n",
       "      <td>0.000345</td>\n",
       "      <td>0.000847</td>\n",
       "      <td>0.161434</td>\n",
       "      <td>0.986232</td>\n",
       "    </tr>\n",
       "  </tbody>\n",
       "</table>\n",
       "<p>5 rows × 836 columns</p>\n",
       "</div>"
      ],
      "text/plain": [
       "book_title                            01_a_game_of_thrones  \\\n",
       "chap_num                                                1    \n",
       "series                                              ASOIAF   \n",
       "label      George R.R. Martin: 01_a_game_of_thrones (1996)   \n",
       "topic_id                                                     \n",
       "T00                                               0.000197   \n",
       "T01                                               0.000197   \n",
       "T02                                               0.000197   \n",
       "T03                                               0.000197   \n",
       "T04                                               0.000197   \n",
       "\n",
       "book_title                                                  \\\n",
       "chap_num                                                2    \n",
       "series                                              ASOIAF   \n",
       "label      George R.R. Martin: 01_a_game_of_thrones (1996)   \n",
       "topic_id                                                     \n",
       "T00                                               0.000345   \n",
       "T01                                               0.000345   \n",
       "T02                                               0.000345   \n",
       "T03                                               0.000345   \n",
       "T04                                               0.000345   \n",
       "\n",
       "book_title                                                  \\\n",
       "chap_num                                                3    \n",
       "series                                              ASOIAF   \n",
       "label      George R.R. Martin: 01_a_game_of_thrones (1996)   \n",
       "topic_id                                                     \n",
       "T00                                               0.000463   \n",
       "T01                                               0.000463   \n",
       "T02                                               0.000463   \n",
       "T03                                               0.000463   \n",
       "T04                                               0.000463   \n",
       "\n",
       "book_title                                                  \\\n",
       "chap_num                                                4    \n",
       "series                                              ASOIAF   \n",
       "label      George R.R. Martin: 01_a_game_of_thrones (1996)   \n",
       "topic_id                                                     \n",
       "T00                                               0.000207   \n",
       "T01                                               0.000207   \n",
       "T02                                               0.000207   \n",
       "T03                                               0.000207   \n",
       "T04                                               0.000207   \n",
       "\n",
       "book_title                                                  \\\n",
       "chap_num                                                5    \n",
       "series                                              ASOIAF   \n",
       "label      George R.R. Martin: 01_a_game_of_thrones (1996)   \n",
       "topic_id                                                     \n",
       "T00                                               0.000269   \n",
       "T01                                               0.000269   \n",
       "T02                                               0.000269   \n",
       "T03                                               0.000269   \n",
       "T04                                               0.000269   \n",
       "\n",
       "book_title                                                  \\\n",
       "chap_num                                                6    \n",
       "series                                              ASOIAF   \n",
       "label      George R.R. Martin: 01_a_game_of_thrones (1996)   \n",
       "topic_id                                                     \n",
       "T00                                               0.000256   \n",
       "T01                                               0.000256   \n",
       "T02                                               0.000256   \n",
       "T03                                               0.000256   \n",
       "T04                                               0.000256   \n",
       "\n",
       "book_title                                                  \\\n",
       "chap_num                                                7    \n",
       "series                                              ASOIAF   \n",
       "label      George R.R. Martin: 01_a_game_of_thrones (1996)   \n",
       "topic_id                                                     \n",
       "T00                                               0.000357   \n",
       "T01                                               0.000357   \n",
       "T02                                               0.000357   \n",
       "T03                                               0.000357   \n",
       "T04                                               0.000357   \n",
       "\n",
       "book_title                                                  \\\n",
       "chap_num                                                8    \n",
       "series                                              ASOIAF   \n",
       "label      George R.R. Martin: 01_a_game_of_thrones (1996)   \n",
       "topic_id                                                     \n",
       "T00                                                0.00037   \n",
       "T01                                                0.00037   \n",
       "T02                                                0.00037   \n",
       "T03                                                0.00037   \n",
       "T04                                                0.00037   \n",
       "\n",
       "book_title                                                  \\\n",
       "chap_num                                                9    \n",
       "series                                              ASOIAF   \n",
       "label      George R.R. Martin: 01_a_game_of_thrones (1996)   \n",
       "topic_id                                                     \n",
       "T00                                               0.000329   \n",
       "T01                                               0.000329   \n",
       "T02                                               0.000329   \n",
       "T03                                               0.000329   \n",
       "T04                                               0.106951   \n",
       "\n",
       "book_title                                                  ...  \\\n",
       "chap_num                                                10  ...   \n",
       "series                                              ASOIAF  ...   \n",
       "label      George R.R. Martin: 01_a_game_of_thrones (1996)  ...   \n",
       "topic_id                                                    ...   \n",
       "T00                                               0.000403  ...   \n",
       "T01                                               0.000403  ...   \n",
       "T02                                               0.000403  ...   \n",
       "T03                                               0.000403  ...   \n",
       "T04                                               0.000403  ...   \n",
       "\n",
       "book_title                      07_the_fire_ascending  \\\n",
       "chap_num                                           20   \n",
       "series                         Last_Dragon_Chronicles   \n",
       "label      Chris D'Lacey: 07_the_fire_ascendin (2013)   \n",
       "topic_id                                                \n",
       "T00                                          0.001042   \n",
       "T01                                          0.001042   \n",
       "T02                                          0.001042   \n",
       "T03                                          0.001042   \n",
       "T04                                          0.980208   \n",
       "\n",
       "book_title                                             \\\n",
       "chap_num                                           21   \n",
       "series                         Last_Dragon_Chronicles   \n",
       "label      Chris D'Lacey: 07_the_fire_ascendin (2013)   \n",
       "topic_id                                                \n",
       "T00                                          0.001163   \n",
       "T01                                          0.001163   \n",
       "T02                                          0.001163   \n",
       "T03                                          0.442010   \n",
       "T04                                          0.001163   \n",
       "\n",
       "book_title                                             \\\n",
       "chap_num                                           22   \n",
       "series                         Last_Dragon_Chronicles   \n",
       "label      Chris D'Lacey: 07_the_fire_ascendin (2013)   \n",
       "topic_id                                                \n",
       "T00                                           0.00051   \n",
       "T01                                           0.00051   \n",
       "T02                                           0.00051   \n",
       "T03                                           0.00051   \n",
       "T04                                           0.12222   \n",
       "\n",
       "book_title                                             \\\n",
       "chap_num                                           23   \n",
       "series                         Last_Dragon_Chronicles   \n",
       "label      Chris D'Lacey: 07_the_fire_ascendin (2013)   \n",
       "topic_id                                                \n",
       "T00                                          0.000365   \n",
       "T01                                          0.000365   \n",
       "T02                                          0.000365   \n",
       "T03                                          0.000365   \n",
       "T04                                          0.000365   \n",
       "\n",
       "book_title                                             \\\n",
       "chap_num                                           24   \n",
       "series                         Last_Dragon_Chronicles   \n",
       "label      Chris D'Lacey: 07_the_fire_ascendin (2013)   \n",
       "topic_id                                                \n",
       "T00                                          0.002273   \n",
       "T01                                          0.002273   \n",
       "T02                                          0.002273   \n",
       "T03                                          0.002273   \n",
       "T04                                          0.002273   \n",
       "\n",
       "book_title                                             \\\n",
       "chap_num                                           25   \n",
       "series                         Last_Dragon_Chronicles   \n",
       "label      Chris D'Lacey: 07_the_fire_ascendin (2013)   \n",
       "topic_id                                                \n",
       "T00                                          0.231288   \n",
       "T01                                          0.001250   \n",
       "T02                                          0.001250   \n",
       "T03                                          0.001250   \n",
       "T04                                          0.001250   \n",
       "\n",
       "book_title                                             \\\n",
       "chap_num                                           26   \n",
       "series                         Last_Dragon_Chronicles   \n",
       "label      Chris D'Lacey: 07_the_fire_ascendin (2013)   \n",
       "topic_id                                                \n",
       "T00                                          0.000345   \n",
       "T01                                          0.000345   \n",
       "T02                                          0.000345   \n",
       "T03                                          0.000345   \n",
       "T04                                          0.000345   \n",
       "\n",
       "book_title                                             \\\n",
       "chap_num                                           27   \n",
       "series                         Last_Dragon_Chronicles   \n",
       "label      Chris D'Lacey: 07_the_fire_ascendin (2013)   \n",
       "topic_id                                                \n",
       "T00                                          0.000847   \n",
       "T01                                          0.000847   \n",
       "T02                                          0.000847   \n",
       "T03                                          0.000847   \n",
       "T04                                          0.000847   \n",
       "\n",
       "book_title                                             \\\n",
       "chap_num                                           28   \n",
       "series                         Last_Dragon_Chronicles   \n",
       "label      Chris D'Lacey: 07_the_fire_ascendin (2013)   \n",
       "topic_id                                                \n",
       "T00                                          0.000221   \n",
       "T01                                          0.000221   \n",
       "T02                                          0.000221   \n",
       "T03                                          0.000221   \n",
       "T04                                          0.161434   \n",
       "\n",
       "book_title                                             \n",
       "chap_num                                           29  \n",
       "series                         Last_Dragon_Chronicles  \n",
       "label      Chris D'Lacey: 07_the_fire_ascendin (2013)  \n",
       "topic_id                                               \n",
       "T00                                          0.000725  \n",
       "T01                                          0.000725  \n",
       "T02                                          0.000725  \n",
       "T03                                          0.000725  \n",
       "T04                                          0.986232  \n",
       "\n",
       "[5 rows x 836 columns]"
      ]
     },
     "execution_count": 11,
     "metadata": {},
     "output_type": "execute_result"
    }
   ],
   "source": [
    "df = THETA.groupby(OHCO).mean().join(LIB, on='book_title')\\\n",
    "    .reset_index().set_index(OHCO+['series','label']).T\n",
    "df.index.name = 'topic_id'\n",
    "df.head()"
   ]
  },
  {
   "cell_type": "code",
   "execution_count": 12,
   "id": "f6a4c80f-8a81-440b-b875-6c989d87d985",
   "metadata": {},
   "outputs": [
    {
     "data": {
      "text/html": [
       "<div>\n",
       "<style scoped>\n",
       "    .dataframe tbody tr th:only-of-type {\n",
       "        vertical-align: middle;\n",
       "    }\n",
       "\n",
       "    .dataframe tbody tr th {\n",
       "        vertical-align: top;\n",
       "    }\n",
       "\n",
       "    .dataframe thead th {\n",
       "        text-align: right;\n",
       "    }\n",
       "</style>\n",
       "<table border=\"1\" class=\"dataframe\">\n",
       "  <thead>\n",
       "    <tr style=\"text-align: right;\">\n",
       "      <th></th>\n",
       "      <th>topic_id</th>\n",
       "      <th>series</th>\n",
       "      <th>mean_doc_weight</th>\n",
       "    </tr>\n",
       "  </thead>\n",
       "  <tbody>\n",
       "    <tr>\n",
       "      <th>0</th>\n",
       "      <td>T00</td>\n",
       "      <td>ASOIAF</td>\n",
       "      <td>0.000317</td>\n",
       "    </tr>\n",
       "    <tr>\n",
       "      <th>1</th>\n",
       "      <td>T00</td>\n",
       "      <td>Last_Dragon_Chronicles</td>\n",
       "      <td>0.007297</td>\n",
       "    </tr>\n",
       "    <tr>\n",
       "      <th>2</th>\n",
       "      <td>T00</td>\n",
       "      <td>Warrior_Cats</td>\n",
       "      <td>0.000531</td>\n",
       "    </tr>\n",
       "    <tr>\n",
       "      <th>3</th>\n",
       "      <td>T01</td>\n",
       "      <td>ASOIAF</td>\n",
       "      <td>0.000908</td>\n",
       "    </tr>\n",
       "    <tr>\n",
       "      <th>4</th>\n",
       "      <td>T01</td>\n",
       "      <td>Last_Dragon_Chronicles</td>\n",
       "      <td>0.009070</td>\n",
       "    </tr>\n",
       "  </tbody>\n",
       "</table>\n",
       "</div>"
      ],
      "text/plain": [
       "  topic_id                  series  mean_doc_weight\n",
       "0      T00                  ASOIAF         0.000317\n",
       "1      T00  Last_Dragon_Chronicles         0.007297\n",
       "2      T00            Warrior_Cats         0.000531\n",
       "3      T01                  ASOIAF         0.000908\n",
       "4      T01  Last_Dragon_Chronicles         0.009070"
      ]
     },
     "execution_count": 12,
     "metadata": {},
     "output_type": "execute_result"
    }
   ],
   "source": [
    "df2 = df.T.groupby('series').mean().T\n",
    "#df2.columns.name = None\n",
    "df2 = df2.stack().to_frame('mean_doc_weight').reset_index()\n",
    "df2.head()"
   ]
  },
  {
   "cell_type": "code",
   "execution_count": 13,
   "id": "5ccda093-c5ca-413f-b636-0b39851e8283",
   "metadata": {},
   "outputs": [
    {
     "data": {
      "text/plain": [
       "(60, 3)"
      ]
     },
     "execution_count": 13,
     "metadata": {},
     "output_type": "execute_result"
    }
   ],
   "source": [
    "df2.shape"
   ]
  },
  {
   "cell_type": "code",
   "execution_count": 14,
   "id": "51a61520-13a2-495c-ab1d-c525385f911b",
   "metadata": {},
   "outputs": [
    {
     "data": {
      "text/plain": [
       "(20, 2)"
      ]
     },
     "execution_count": 14,
     "metadata": {},
     "output_type": "execute_result"
    }
   ],
   "source": [
    "DCM.shape"
   ]
  },
  {
   "cell_type": "code",
   "execution_count": 15,
   "id": "39ac5f25-54fc-4aca-a135-8201a2df5683",
   "metadata": {},
   "outputs": [
    {
     "data": {
      "text/plain": [
       "(60, 6)"
      ]
     },
     "execution_count": 15,
     "metadata": {},
     "output_type": "execute_result"
    }
   ],
   "source": [
    "df = pd.merge(DCM, df2, on='topic_id', how='right')\n",
    "# df['label'] = df.topic_id + \" \" + df.series\n",
    "df.shape"
   ]
  },
  {
   "cell_type": "code",
   "execution_count": 16,
   "id": "9b1bd8cb-5bc7-4901-abf4-d9f46691df8a",
   "metadata": {},
   "outputs": [
    {
     "data": {
      "text/html": [
       "<div>\n",
       "<style scoped>\n",
       "    .dataframe tbody tr th:only-of-type {\n",
       "        vertical-align: middle;\n",
       "    }\n",
       "\n",
       "    .dataframe tbody tr th {\n",
       "        vertical-align: top;\n",
       "    }\n",
       "\n",
       "    .dataframe thead th {\n",
       "        text-align: right;\n",
       "    }\n",
       "</style>\n",
       "<table border=\"1\" class=\"dataframe\">\n",
       "  <thead>\n",
       "    <tr style=\"text-align: right;\">\n",
       "      <th></th>\n",
       "      <th>topic_id</th>\n",
       "      <th>PC0</th>\n",
       "      <th>PC1</th>\n",
       "      <th>series</th>\n",
       "      <th>mean_doc_weight</th>\n",
       "      <th>label</th>\n",
       "    </tr>\n",
       "  </thead>\n",
       "  <tbody>\n",
       "    <tr>\n",
       "      <th>0</th>\n",
       "      <td>T00</td>\n",
       "      <td>-418.088919</td>\n",
       "      <td>-47.24158</td>\n",
       "      <td>ASOIAF</td>\n",
       "      <td>0.000317</td>\n",
       "      <td>T00 ASOIAF</td>\n",
       "    </tr>\n",
       "    <tr>\n",
       "      <th>1</th>\n",
       "      <td>T00</td>\n",
       "      <td>-418.088919</td>\n",
       "      <td>-47.24158</td>\n",
       "      <td>Last_Dragon_Chronicles</td>\n",
       "      <td>0.007297</td>\n",
       "      <td>T00 Last_Dragon_Chronicles</td>\n",
       "    </tr>\n",
       "    <tr>\n",
       "      <th>2</th>\n",
       "      <td>T00</td>\n",
       "      <td>-418.088919</td>\n",
       "      <td>-47.24158</td>\n",
       "      <td>Warrior_Cats</td>\n",
       "      <td>0.000531</td>\n",
       "      <td>T00 Warrior_Cats</td>\n",
       "    </tr>\n",
       "    <tr>\n",
       "      <th>3</th>\n",
       "      <td>T01</td>\n",
       "      <td>-415.131256</td>\n",
       "      <td>-46.63907</td>\n",
       "      <td>ASOIAF</td>\n",
       "      <td>0.000908</td>\n",
       "      <td>T01 ASOIAF</td>\n",
       "    </tr>\n",
       "    <tr>\n",
       "      <th>4</th>\n",
       "      <td>T01</td>\n",
       "      <td>-415.131256</td>\n",
       "      <td>-46.63907</td>\n",
       "      <td>Last_Dragon_Chronicles</td>\n",
       "      <td>0.009070</td>\n",
       "      <td>T01 Last_Dragon_Chronicles</td>\n",
       "    </tr>\n",
       "  </tbody>\n",
       "</table>\n",
       "</div>"
      ],
      "text/plain": [
       "  topic_id         PC0       PC1                  series  mean_doc_weight  \\\n",
       "0      T00 -418.088919 -47.24158                  ASOIAF         0.000317   \n",
       "1      T00 -418.088919 -47.24158  Last_Dragon_Chronicles         0.007297   \n",
       "2      T00 -418.088919 -47.24158            Warrior_Cats         0.000531   \n",
       "3      T01 -415.131256 -46.63907                  ASOIAF         0.000908   \n",
       "4      T01 -415.131256 -46.63907  Last_Dragon_Chronicles         0.009070   \n",
       "\n",
       "                        label  \n",
       "0                  T00 ASOIAF  \n",
       "1  T00 Last_Dragon_Chronicles  \n",
       "2            T00 Warrior_Cats  \n",
       "3                  T01 ASOIAF  \n",
       "4  T01 Last_Dragon_Chronicles  "
      ]
     },
     "execution_count": 16,
     "metadata": {},
     "output_type": "execute_result"
    }
   ],
   "source": [
    "df.head()"
   ]
  },
  {
   "cell_type": "markdown",
   "id": "c0c4788a-8f05-481f-84ed-0a396528fa20",
   "metadata": {},
   "source": [
    "### Get Vis"
   ]
  },
  {
   "cell_type": "code",
   "execution_count": 21,
   "id": "97193b75-2a9f-4cf7-80c7-b68c41a0fee7",
   "metadata": {},
   "outputs": [],
   "source": [
    "def vis_pcs(M, a, b, label='author', hover_name='topic_id', symbol=None, size=None):\n",
    "    return px.scatter(M, f\"PC{a}\", f\"PC{b}\", color=label, hover_name=hover_name, \n",
    "                     symbol=symbol, size=size)"
   ]
  },
  {
   "cell_type": "code",
   "execution_count": 22,
   "id": "ef971f89-dfd9-4f43-b4b3-34a8e0ebb477",
   "metadata": {},
   "outputs": [
    {
     "data": {
      "application/vnd.plotly.v1+json": {
       "config": {
        "plotlyServerURL": "https://plot.ly"
       },
       "data": [
        {
         "hovertemplate": "<b>%{hovertext}</b><br><br>series=ASOIAF<br>PC0=%{x}<br>PC1=%{y}<br>mean_doc_weight=%{marker.size}<extra></extra>",
         "hovertext": [
          "T00",
          "T01",
          "T02",
          "T03",
          "T04",
          "T05",
          "T06",
          "T07",
          "T08",
          "T09",
          "T10",
          "T11",
          "T12",
          "T13",
          "T14",
          "T15",
          "T16",
          "T17",
          "T18",
          "T19"
         ],
         "legendgroup": "ASOIAF",
         "marker": {
          "color": "#636efa",
          "size": [
           0.00031661538393636595,
           0.0009083825605513672,
           0.12561422742611864,
           0.0013345302311360875,
           0.017597889846153753,
           0.022770194991888402,
           0.0023952213168080393,
           0.00212573378784462,
           0.004804786017124894,
           0.003712301822274565,
           0.04845415730318719,
           0.1817459795950648,
           0.00023261801329655445,
           0.00023261801361505554,
           0.002194985227352412,
           0.36543287843280353,
           0.0005416339312154052,
           0.21159383597365541,
           0.0074259151685776075,
           0.0005654949573943479
          ],
          "sizemode": "area",
          "sizeref": 0.0020662601742907185,
          "symbol": "circle"
         },
         "mode": "markers",
         "name": "ASOIAF",
         "orientation": "v",
         "showlegend": true,
         "type": "scatter",
         "x": [
          -418.0889192541708,
          -415.13125610857355,
          319.59113824780775,
          -415.6032339764258,
          -112.89304961677252,
          682.5997055798762,
          16.05154071777535,
          -397.9826644326924,
          -385.7414156870263,
          -391.58569085671616,
          3.240777191465606,
          728.4119202750137,
          -418.52211085093114,
          -418.26131860652237,
          -392.1986387319273,
          2321.942667555817,
          -418.51039077813635,
          865.7405715738327,
          -386.8223564310575,
          -366.23727581063474
         ],
         "xaxis": "x",
         "y": [
          -47.24158037412161,
          -46.63906980379748,
          -114.25857980449665,
          -45.87018242190672,
          65.8639746006827,
          1111.3751411008298,
          208.71669016080241,
          -38.0255252248769,
          -40.546871428509,
          -44.2966983305633,
          -86.83987667098678,
          -158.45355943705582,
          -47.18293211891172,
          -47.107504714204104,
          -43.32388348443635,
          -265.55869376182693,
          -47.22823718247296,
          -230.48007882681563,
          -46.64340837449672,
          -36.25912390283643
         ],
         "yaxis": "y"
        },
        {
         "hovertemplate": "<b>%{hovertext}</b><br><br>series=Last_Dragon_Chronicles<br>PC0=%{x}<br>PC1=%{y}<br>mean_doc_weight=%{marker.size}<extra></extra>",
         "hovertext": [
          "T00",
          "T01",
          "T02",
          "T03",
          "T04",
          "T05",
          "T06",
          "T07",
          "T08",
          "T09",
          "T10",
          "T11",
          "T12",
          "T13",
          "T14",
          "T15",
          "T16",
          "T17",
          "T18",
          "T19"
         ],
         "legendgroup": "Last_Dragon_Chronicles",
         "marker": {
          "color": "#EF553B",
          "size": [
           0.007297450895246046,
           0.009069699105063101,
           0.033327038168795606,
           0.012170424588199596,
           0.1634206640495917,
           0.050000525764270734,
           0.35603711801570953,
           0.02092093487213387,
           0.022545194345653677,
           0.02465444457233111,
           0.04184608280392389,
           0.03627453384569721,
           0.0024349829801560883,
           0.00862286177067816,
           0.033856408978532336,
           0.05836200889182786,
           0.0039031790746647315,
           0.03027295364399177,
           0.016871606382177003,
           0.06811188725135506
          ],
          "sizemode": "area",
          "sizeref": 0.0020662601742907185,
          "symbol": "circle"
         },
         "mode": "markers",
         "name": "Last_Dragon_Chronicles",
         "orientation": "v",
         "showlegend": true,
         "type": "scatter",
         "x": [
          -418.0889192541708,
          -415.13125610857355,
          319.59113824780775,
          -415.6032339764258,
          -112.89304961677252,
          682.5997055798762,
          16.05154071777535,
          -397.9826644326924,
          -385.7414156870263,
          -391.58569085671616,
          3.240777191465606,
          728.4119202750137,
          -418.52211085093114,
          -418.26131860652237,
          -392.1986387319273,
          2321.942667555817,
          -418.51039077813635,
          865.7405715738327,
          -386.8223564310575,
          -366.23727581063474
         ],
         "xaxis": "x",
         "y": [
          -47.24158037412161,
          -46.63906980379748,
          -114.25857980449665,
          -45.87018242190672,
          65.8639746006827,
          1111.3751411008298,
          208.71669016080241,
          -38.0255252248769,
          -40.546871428509,
          -44.2966983305633,
          -86.83987667098678,
          -158.45355943705582,
          -47.18293211891172,
          -47.107504714204104,
          -43.32388348443635,
          -265.55869376182693,
          -47.22823718247296,
          -230.48007882681563,
          -46.64340837449672,
          -36.25912390283643
         ],
         "yaxis": "y"
        },
        {
         "hovertemplate": "<b>%{hovertext}</b><br><br>series=Warrior_Cats<br>PC0=%{x}<br>PC1=%{y}<br>mean_doc_weight=%{marker.size}<extra></extra>",
         "hovertext": [
          "T00",
          "T01",
          "T02",
          "T03",
          "T04",
          "T05",
          "T06",
          "T07",
          "T08",
          "T09",
          "T10",
          "T11",
          "T12",
          "T13",
          "T14",
          "T15",
          "T16",
          "T17",
          "T18",
          "T19"
         ],
         "legendgroup": "Warrior_Cats",
         "marker": {
          "color": "#00cc96",
          "size": [
           0.000530741944234845,
           0.0033503805005581366,
           0.014442695845525306,
           0.0005307419457999387,
           0.025815603081006906,
           0.8265040697162873,
           0.016652409686654258,
           0.00139752813329895,
           0.0034044496193040993,
           0.0017220370245729258,
           0.00861522192038107,
           0.027037782856380678,
           0.0005307419439124449,
           0.0008236707841966652,
           0.0007517741773706556,
           0.06013164089807623,
           0.0005307419442900169,
           0.005005345748145106,
           0.001691680280620427,
           0.0005307419493830658
          ],
          "sizemode": "area",
          "sizeref": 0.0020662601742907185,
          "symbol": "circle"
         },
         "mode": "markers",
         "name": "Warrior_Cats",
         "orientation": "v",
         "showlegend": true,
         "type": "scatter",
         "x": [
          -418.0889192541708,
          -415.13125610857355,
          319.59113824780775,
          -415.6032339764258,
          -112.89304961677252,
          682.5997055798762,
          16.05154071777535,
          -397.9826644326924,
          -385.7414156870263,
          -391.58569085671616,
          3.240777191465606,
          728.4119202750137,
          -418.52211085093114,
          -418.26131860652237,
          -392.1986387319273,
          2321.942667555817,
          -418.51039077813635,
          865.7405715738327,
          -386.8223564310575,
          -366.23727581063474
         ],
         "xaxis": "x",
         "y": [
          -47.24158037412161,
          -46.63906980379748,
          -114.25857980449665,
          -45.87018242190672,
          65.8639746006827,
          1111.3751411008298,
          208.71669016080241,
          -38.0255252248769,
          -40.546871428509,
          -44.2966983305633,
          -86.83987667098678,
          -158.45355943705582,
          -47.18293211891172,
          -47.107504714204104,
          -43.32388348443635,
          -265.55869376182693,
          -47.22823718247296,
          -230.48007882681563,
          -46.64340837449672,
          -36.25912390283643
         ],
         "yaxis": "y"
        }
       ],
       "layout": {
        "autosize": true,
        "legend": {
         "itemsizing": "constant",
         "title": {
          "text": "series"
         },
         "tracegroupgap": 0
        },
        "margin": {
         "t": 60
        },
        "template": {
         "data": {
          "bar": [
           {
            "error_x": {
             "color": "#2a3f5f"
            },
            "error_y": {
             "color": "#2a3f5f"
            },
            "marker": {
             "line": {
              "color": "#E5ECF6",
              "width": 0.5
             },
             "pattern": {
              "fillmode": "overlay",
              "size": 10,
              "solidity": 0.2
             }
            },
            "type": "bar"
           }
          ],
          "barpolar": [
           {
            "marker": {
             "line": {
              "color": "#E5ECF6",
              "width": 0.5
             },
             "pattern": {
              "fillmode": "overlay",
              "size": 10,
              "solidity": 0.2
             }
            },
            "type": "barpolar"
           }
          ],
          "carpet": [
           {
            "aaxis": {
             "endlinecolor": "#2a3f5f",
             "gridcolor": "white",
             "linecolor": "white",
             "minorgridcolor": "white",
             "startlinecolor": "#2a3f5f"
            },
            "baxis": {
             "endlinecolor": "#2a3f5f",
             "gridcolor": "white",
             "linecolor": "white",
             "minorgridcolor": "white",
             "startlinecolor": "#2a3f5f"
            },
            "type": "carpet"
           }
          ],
          "choropleth": [
           {
            "colorbar": {
             "outlinewidth": 0,
             "ticks": ""
            },
            "type": "choropleth"
           }
          ],
          "contour": [
           {
            "colorbar": {
             "outlinewidth": 0,
             "ticks": ""
            },
            "colorscale": [
             [
              0,
              "#0d0887"
             ],
             [
              0.1111111111111111,
              "#46039f"
             ],
             [
              0.2222222222222222,
              "#7201a8"
             ],
             [
              0.3333333333333333,
              "#9c179e"
             ],
             [
              0.4444444444444444,
              "#bd3786"
             ],
             [
              0.5555555555555556,
              "#d8576b"
             ],
             [
              0.6666666666666666,
              "#ed7953"
             ],
             [
              0.7777777777777778,
              "#fb9f3a"
             ],
             [
              0.8888888888888888,
              "#fdca26"
             ],
             [
              1,
              "#f0f921"
             ]
            ],
            "type": "contour"
           }
          ],
          "contourcarpet": [
           {
            "colorbar": {
             "outlinewidth": 0,
             "ticks": ""
            },
            "type": "contourcarpet"
           }
          ],
          "heatmap": [
           {
            "colorbar": {
             "outlinewidth": 0,
             "ticks": ""
            },
            "colorscale": [
             [
              0,
              "#0d0887"
             ],
             [
              0.1111111111111111,
              "#46039f"
             ],
             [
              0.2222222222222222,
              "#7201a8"
             ],
             [
              0.3333333333333333,
              "#9c179e"
             ],
             [
              0.4444444444444444,
              "#bd3786"
             ],
             [
              0.5555555555555556,
              "#d8576b"
             ],
             [
              0.6666666666666666,
              "#ed7953"
             ],
             [
              0.7777777777777778,
              "#fb9f3a"
             ],
             [
              0.8888888888888888,
              "#fdca26"
             ],
             [
              1,
              "#f0f921"
             ]
            ],
            "type": "heatmap"
           }
          ],
          "heatmapgl": [
           {
            "colorbar": {
             "outlinewidth": 0,
             "ticks": ""
            },
            "colorscale": [
             [
              0,
              "#0d0887"
             ],
             [
              0.1111111111111111,
              "#46039f"
             ],
             [
              0.2222222222222222,
              "#7201a8"
             ],
             [
              0.3333333333333333,
              "#9c179e"
             ],
             [
              0.4444444444444444,
              "#bd3786"
             ],
             [
              0.5555555555555556,
              "#d8576b"
             ],
             [
              0.6666666666666666,
              "#ed7953"
             ],
             [
              0.7777777777777778,
              "#fb9f3a"
             ],
             [
              0.8888888888888888,
              "#fdca26"
             ],
             [
              1,
              "#f0f921"
             ]
            ],
            "type": "heatmapgl"
           }
          ],
          "histogram": [
           {
            "marker": {
             "pattern": {
              "fillmode": "overlay",
              "size": 10,
              "solidity": 0.2
             }
            },
            "type": "histogram"
           }
          ],
          "histogram2d": [
           {
            "colorbar": {
             "outlinewidth": 0,
             "ticks": ""
            },
            "colorscale": [
             [
              0,
              "#0d0887"
             ],
             [
              0.1111111111111111,
              "#46039f"
             ],
             [
              0.2222222222222222,
              "#7201a8"
             ],
             [
              0.3333333333333333,
              "#9c179e"
             ],
             [
              0.4444444444444444,
              "#bd3786"
             ],
             [
              0.5555555555555556,
              "#d8576b"
             ],
             [
              0.6666666666666666,
              "#ed7953"
             ],
             [
              0.7777777777777778,
              "#fb9f3a"
             ],
             [
              0.8888888888888888,
              "#fdca26"
             ],
             [
              1,
              "#f0f921"
             ]
            ],
            "type": "histogram2d"
           }
          ],
          "histogram2dcontour": [
           {
            "colorbar": {
             "outlinewidth": 0,
             "ticks": ""
            },
            "colorscale": [
             [
              0,
              "#0d0887"
             ],
             [
              0.1111111111111111,
              "#46039f"
             ],
             [
              0.2222222222222222,
              "#7201a8"
             ],
             [
              0.3333333333333333,
              "#9c179e"
             ],
             [
              0.4444444444444444,
              "#bd3786"
             ],
             [
              0.5555555555555556,
              "#d8576b"
             ],
             [
              0.6666666666666666,
              "#ed7953"
             ],
             [
              0.7777777777777778,
              "#fb9f3a"
             ],
             [
              0.8888888888888888,
              "#fdca26"
             ],
             [
              1,
              "#f0f921"
             ]
            ],
            "type": "histogram2dcontour"
           }
          ],
          "mesh3d": [
           {
            "colorbar": {
             "outlinewidth": 0,
             "ticks": ""
            },
            "type": "mesh3d"
           }
          ],
          "parcoords": [
           {
            "line": {
             "colorbar": {
              "outlinewidth": 0,
              "ticks": ""
             }
            },
            "type": "parcoords"
           }
          ],
          "pie": [
           {
            "automargin": true,
            "type": "pie"
           }
          ],
          "scatter": [
           {
            "fillpattern": {
             "fillmode": "overlay",
             "size": 10,
             "solidity": 0.2
            },
            "type": "scatter"
           }
          ],
          "scatter3d": [
           {
            "line": {
             "colorbar": {
              "outlinewidth": 0,
              "ticks": ""
             }
            },
            "marker": {
             "colorbar": {
              "outlinewidth": 0,
              "ticks": ""
             }
            },
            "type": "scatter3d"
           }
          ],
          "scattercarpet": [
           {
            "marker": {
             "colorbar": {
              "outlinewidth": 0,
              "ticks": ""
             }
            },
            "type": "scattercarpet"
           }
          ],
          "scattergeo": [
           {
            "marker": {
             "colorbar": {
              "outlinewidth": 0,
              "ticks": ""
             }
            },
            "type": "scattergeo"
           }
          ],
          "scattergl": [
           {
            "marker": {
             "colorbar": {
              "outlinewidth": 0,
              "ticks": ""
             }
            },
            "type": "scattergl"
           }
          ],
          "scattermapbox": [
           {
            "marker": {
             "colorbar": {
              "outlinewidth": 0,
              "ticks": ""
             }
            },
            "type": "scattermapbox"
           }
          ],
          "scatterpolar": [
           {
            "marker": {
             "colorbar": {
              "outlinewidth": 0,
              "ticks": ""
             }
            },
            "type": "scatterpolar"
           }
          ],
          "scatterpolargl": [
           {
            "marker": {
             "colorbar": {
              "outlinewidth": 0,
              "ticks": ""
             }
            },
            "type": "scatterpolargl"
           }
          ],
          "scatterternary": [
           {
            "marker": {
             "colorbar": {
              "outlinewidth": 0,
              "ticks": ""
             }
            },
            "type": "scatterternary"
           }
          ],
          "surface": [
           {
            "colorbar": {
             "outlinewidth": 0,
             "ticks": ""
            },
            "colorscale": [
             [
              0,
              "#0d0887"
             ],
             [
              0.1111111111111111,
              "#46039f"
             ],
             [
              0.2222222222222222,
              "#7201a8"
             ],
             [
              0.3333333333333333,
              "#9c179e"
             ],
             [
              0.4444444444444444,
              "#bd3786"
             ],
             [
              0.5555555555555556,
              "#d8576b"
             ],
             [
              0.6666666666666666,
              "#ed7953"
             ],
             [
              0.7777777777777778,
              "#fb9f3a"
             ],
             [
              0.8888888888888888,
              "#fdca26"
             ],
             [
              1,
              "#f0f921"
             ]
            ],
            "type": "surface"
           }
          ],
          "table": [
           {
            "cells": {
             "fill": {
              "color": "#EBF0F8"
             },
             "line": {
              "color": "white"
             }
            },
            "header": {
             "fill": {
              "color": "#C8D4E3"
             },
             "line": {
              "color": "white"
             }
            },
            "type": "table"
           }
          ]
         },
         "layout": {
          "annotationdefaults": {
           "arrowcolor": "#2a3f5f",
           "arrowhead": 0,
           "arrowwidth": 1
          },
          "autotypenumbers": "strict",
          "coloraxis": {
           "colorbar": {
            "outlinewidth": 0,
            "ticks": ""
           }
          },
          "colorscale": {
           "diverging": [
            [
             0,
             "#8e0152"
            ],
            [
             0.1,
             "#c51b7d"
            ],
            [
             0.2,
             "#de77ae"
            ],
            [
             0.3,
             "#f1b6da"
            ],
            [
             0.4,
             "#fde0ef"
            ],
            [
             0.5,
             "#f7f7f7"
            ],
            [
             0.6,
             "#e6f5d0"
            ],
            [
             0.7,
             "#b8e186"
            ],
            [
             0.8,
             "#7fbc41"
            ],
            [
             0.9,
             "#4d9221"
            ],
            [
             1,
             "#276419"
            ]
           ],
           "sequential": [
            [
             0,
             "#0d0887"
            ],
            [
             0.1111111111111111,
             "#46039f"
            ],
            [
             0.2222222222222222,
             "#7201a8"
            ],
            [
             0.3333333333333333,
             "#9c179e"
            ],
            [
             0.4444444444444444,
             "#bd3786"
            ],
            [
             0.5555555555555556,
             "#d8576b"
            ],
            [
             0.6666666666666666,
             "#ed7953"
            ],
            [
             0.7777777777777778,
             "#fb9f3a"
            ],
            [
             0.8888888888888888,
             "#fdca26"
            ],
            [
             1,
             "#f0f921"
            ]
           ],
           "sequentialminus": [
            [
             0,
             "#0d0887"
            ],
            [
             0.1111111111111111,
             "#46039f"
            ],
            [
             0.2222222222222222,
             "#7201a8"
            ],
            [
             0.3333333333333333,
             "#9c179e"
            ],
            [
             0.4444444444444444,
             "#bd3786"
            ],
            [
             0.5555555555555556,
             "#d8576b"
            ],
            [
             0.6666666666666666,
             "#ed7953"
            ],
            [
             0.7777777777777778,
             "#fb9f3a"
            ],
            [
             0.8888888888888888,
             "#fdca26"
            ],
            [
             1,
             "#f0f921"
            ]
           ]
          },
          "colorway": [
           "#636efa",
           "#EF553B",
           "#00cc96",
           "#ab63fa",
           "#FFA15A",
           "#19d3f3",
           "#FF6692",
           "#B6E880",
           "#FF97FF",
           "#FECB52"
          ],
          "font": {
           "color": "#2a3f5f"
          },
          "geo": {
           "bgcolor": "white",
           "lakecolor": "white",
           "landcolor": "#E5ECF6",
           "showlakes": true,
           "showland": true,
           "subunitcolor": "white"
          },
          "hoverlabel": {
           "align": "left"
          },
          "hovermode": "closest",
          "mapbox": {
           "style": "light"
          },
          "paper_bgcolor": "white",
          "plot_bgcolor": "#E5ECF6",
          "polar": {
           "angularaxis": {
            "gridcolor": "white",
            "linecolor": "white",
            "ticks": ""
           },
           "bgcolor": "#E5ECF6",
           "radialaxis": {
            "gridcolor": "white",
            "linecolor": "white",
            "ticks": ""
           }
          },
          "scene": {
           "xaxis": {
            "backgroundcolor": "#E5ECF6",
            "gridcolor": "white",
            "gridwidth": 2,
            "linecolor": "white",
            "showbackground": true,
            "ticks": "",
            "zerolinecolor": "white"
           },
           "yaxis": {
            "backgroundcolor": "#E5ECF6",
            "gridcolor": "white",
            "gridwidth": 2,
            "linecolor": "white",
            "showbackground": true,
            "ticks": "",
            "zerolinecolor": "white"
           },
           "zaxis": {
            "backgroundcolor": "#E5ECF6",
            "gridcolor": "white",
            "gridwidth": 2,
            "linecolor": "white",
            "showbackground": true,
            "ticks": "",
            "zerolinecolor": "white"
           }
          },
          "shapedefaults": {
           "line": {
            "color": "#2a3f5f"
           }
          },
          "ternary": {
           "aaxis": {
            "gridcolor": "white",
            "linecolor": "white",
            "ticks": ""
           },
           "baxis": {
            "gridcolor": "white",
            "linecolor": "white",
            "ticks": ""
           },
           "bgcolor": "#E5ECF6",
           "caxis": {
            "gridcolor": "white",
            "linecolor": "white",
            "ticks": ""
           }
          },
          "title": {
           "x": 0.05
          },
          "xaxis": {
           "automargin": true,
           "gridcolor": "white",
           "linecolor": "white",
           "ticks": "",
           "title": {
            "standoff": 15
           },
           "zerolinecolor": "white",
           "zerolinewidth": 2
          },
          "yaxis": {
           "automargin": true,
           "gridcolor": "white",
           "linecolor": "white",
           "ticks": "",
           "title": {
            "standoff": 15
           },
           "zerolinecolor": "white",
           "zerolinewidth": 2
          }
         }
        },
        "xaxis": {
         "anchor": "y",
         "autorange": true,
         "domain": [
          0,
          1
         ],
         "range": [
          -586.3515166138985,
          2520.9850059281703
         ],
         "showspikes": false,
         "title": {
          "text": "PC0"
         },
         "type": "linear"
        },
        "yaxis": {
         "anchor": "x",
         "autorange": true,
         "domain": [
          0,
          1
         ],
         "range": [
          -438.11029820404696,
          1326.4181263695348
         ],
         "showspikes": false,
         "title": {
          "text": "PC1"
         },
         "type": "linear"
        }
       }
      },
      "image/png": "[encoded data removed]",
      "text/html": [
       "<div>                            <div id=\"0e5c4830-3f16-4893-adea-72cca6a5c4d5\" class=\"plotly-graph-div\" style=\"height:525px; width:100%;\"></div>            <script type=\"text/javascript\">                require([\"plotly\"], function(Plotly) {                    window.PLOTLYENV=window.PLOTLYENV || {};                                    if (document.getElementById(\"0e5c4830-3f16-4893-adea-72cca6a5c4d5\")) {                    Plotly.newPlot(                        \"0e5c4830-3f16-4893-adea-72cca6a5c4d5\",                        [{\"hovertemplate\":\"\\u003cb\\u003e%{hovertext}\\u003c\\u002fb\\u003e\\u003cbr\\u003e\\u003cbr\\u003eseries=ASOIAF\\u003cbr\\u003ePC0=%{x}\\u003cbr\\u003ePC1=%{y}\\u003cbr\\u003emean_doc_weight=%{marker.size}\\u003cextra\\u003e\\u003c\\u002fextra\\u003e\",\"hovertext\":[\"T00\",\"T01\",\"T02\",\"T03\",\"T04\",\"T05\",\"T06\",\"T07\",\"T08\",\"T09\",\"T10\",\"T11\",\"T12\",\"T13\",\"T14\",\"T15\",\"T16\",\"T17\",\"T18\",\"T19\"],\"legendgroup\":\"ASOIAF\",\"marker\":{\"color\":\"#636efa\",\"size\":[0.00031661538393636595,0.0009083825605513672,0.12561422742611864,0.0013345302311360875,0.017597889846153753,0.022770194991888402,0.0023952213168080393,0.00212573378784462,0.004804786017124894,0.003712301822274565,0.04845415730318719,0.1817459795950648,0.00023261801329655445,0.00023261801361505554,0.002194985227352412,0.36543287843280353,0.0005416339312154052,0.21159383597365541,0.0074259151685776075,0.0005654949573943479],\"sizemode\":\"area\",\"sizeref\":0.0020662601742907185,\"symbol\":\"circle\"},\"mode\":\"markers\",\"name\":\"ASOIAF\",\"orientation\":\"v\",\"showlegend\":true,\"x\":[-418.0889192541708,-415.13125610857355,319.59113824780775,-415.6032339764258,-112.89304961677252,682.5997055798762,16.05154071777535,-397.9826644326924,-385.7414156870263,-391.58569085671616,3.240777191465606,728.4119202750137,-418.52211085093114,-418.26131860652237,-392.1986387319273,2321.942667555817,-418.51039077813635,865.7405715738327,-386.8223564310575,-366.23727581063474],\"xaxis\":\"x\",\"y\":[-47.24158037412161,-46.63906980379748,-114.25857980449665,-45.87018242190672,65.8639746006827,1111.3751411008298,208.71669016080241,-38.0255252248769,-40.546871428509,-44.2966983305633,-86.83987667098678,-158.45355943705582,-47.18293211891172,-47.107504714204104,-43.32388348443635,-265.55869376182693,-47.22823718247296,-230.48007882681563,-46.64340837449672,-36.25912390283643],\"yaxis\":\"y\",\"type\":\"scatter\"},{\"hovertemplate\":\"\\u003cb\\u003e%{hovertext}\\u003c\\u002fb\\u003e\\u003cbr\\u003e\\u003cbr\\u003eseries=Last_Dragon_Chronicles\\u003cbr\\u003ePC0=%{x}\\u003cbr\\u003ePC1=%{y}\\u003cbr\\u003emean_doc_weight=%{marker.size}\\u003cextra\\u003e\\u003c\\u002fextra\\u003e\",\"hovertext\":[\"T00\",\"T01\",\"T02\",\"T03\",\"T04\",\"T05\",\"T06\",\"T07\",\"T08\",\"T09\",\"T10\",\"T11\",\"T12\",\"T13\",\"T14\",\"T15\",\"T16\",\"T17\",\"T18\",\"T19\"],\"legendgroup\":\"Last_Dragon_Chronicles\",\"marker\":{\"color\":\"#EF553B\",\"size\":[0.007297450895246046,0.009069699105063101,0.033327038168795606,0.012170424588199596,0.1634206640495917,0.050000525764270734,0.35603711801570953,0.02092093487213387,0.022545194345653677,0.02465444457233111,0.04184608280392389,0.03627453384569721,0.0024349829801560883,0.00862286177067816,0.033856408978532336,0.05836200889182786,0.0039031790746647315,0.03027295364399177,0.016871606382177003,0.06811188725135506],\"sizemode\":\"area\",\"sizeref\":0.0020662601742907185,\"symbol\":\"circle\"},\"mode\":\"markers\",\"name\":\"Last_Dragon_Chronicles\",\"orientation\":\"v\",\"showlegend\":true,\"x\":[-418.0889192541708,-415.13125610857355,319.59113824780775,-415.6032339764258,-112.89304961677252,682.5997055798762,16.05154071777535,-397.9826644326924,-385.7414156870263,-391.58569085671616,3.240777191465606,728.4119202750137,-418.52211085093114,-418.26131860652237,-392.1986387319273,2321.942667555817,-418.51039077813635,865.7405715738327,-386.8223564310575,-366.23727581063474],\"xaxis\":\"x\",\"y\":[-47.24158037412161,-46.63906980379748,-114.25857980449665,-45.87018242190672,65.8639746006827,1111.3751411008298,208.71669016080241,-38.0255252248769,-40.546871428509,-44.2966983305633,-86.83987667098678,-158.45355943705582,-47.18293211891172,-47.107504714204104,-43.32388348443635,-265.55869376182693,-47.22823718247296,-230.48007882681563,-46.64340837449672,-36.25912390283643],\"yaxis\":\"y\",\"type\":\"scatter\"},{\"hovertemplate\":\"\\u003cb\\u003e%{hovertext}\\u003c\\u002fb\\u003e\\u003cbr\\u003e\\u003cbr\\u003eseries=Warrior_Cats\\u003cbr\\u003ePC0=%{x}\\u003cbr\\u003ePC1=%{y}\\u003cbr\\u003emean_doc_weight=%{marker.size}\\u003cextra\\u003e\\u003c\\u002fextra\\u003e\",\"hovertext\":[\"T00\",\"T01\",\"T02\",\"T03\",\"T04\",\"T05\",\"T06\",\"T07\",\"T08\",\"T09\",\"T10\",\"T11\",\"T12\",\"T13\",\"T14\",\"T15\",\"T16\",\"T17\",\"T18\",\"T19\"],\"legendgroup\":\"Warrior_Cats\",\"marker\":{\"color\":\"#00cc96\",\"size\":[0.000530741944234845,0.0033503805005581366,0.014442695845525306,0.0005307419457999387,0.025815603081006906,0.8265040697162873,0.016652409686654258,0.00139752813329895,0.0034044496193040993,0.0017220370245729258,0.00861522192038107,0.027037782856380678,0.0005307419439124449,0.0008236707841966652,0.0007517741773706556,0.06013164089807623,0.0005307419442900169,0.005005345748145106,0.001691680280620427,0.0005307419493830658],\"sizemode\":\"area\",\"sizeref\":0.0020662601742907185,\"symbol\":\"circle\"},\"mode\":\"markers\",\"name\":\"Warrior_Cats\",\"orientation\":\"v\",\"showlegend\":true,\"x\":[-418.0889192541708,-415.13125610857355,319.59113824780775,-415.6032339764258,-112.89304961677252,682.5997055798762,16.05154071777535,-397.9826644326924,-385.7414156870263,-391.58569085671616,3.240777191465606,728.4119202750137,-418.52211085093114,-418.26131860652237,-392.1986387319273,2321.942667555817,-418.51039077813635,865.7405715738327,-386.8223564310575,-366.23727581063474],\"xaxis\":\"x\",\"y\":[-47.24158037412161,-46.63906980379748,-114.25857980449665,-45.87018242190672,65.8639746006827,1111.3751411008298,208.71669016080241,-38.0255252248769,-40.546871428509,-44.2966983305633,-86.83987667098678,-158.45355943705582,-47.18293211891172,-47.107504714204104,-43.32388348443635,-265.55869376182693,-47.22823718247296,-230.48007882681563,-46.64340837449672,-36.25912390283643],\"yaxis\":\"y\",\"type\":\"scatter\"}],                        {\"template\":{\"data\":{\"histogram2dcontour\":[{\"type\":\"histogram2dcontour\",\"colorbar\":{\"outlinewidth\":0,\"ticks\":\"\"},\"colorscale\":[[0.0,\"#0d0887\"],[0.1111111111111111,\"#46039f\"],[0.2222222222222222,\"#7201a8\"],[0.3333333333333333,\"#9c179e\"],[0.4444444444444444,\"#bd3786\"],[0.5555555555555556,\"#d8576b\"],[0.6666666666666666,\"#ed7953\"],[0.7777777777777778,\"#fb9f3a\"],[0.8888888888888888,\"#fdca26\"],[1.0,\"#f0f921\"]]}],\"choropleth\":[{\"type\":\"choropleth\",\"colorbar\":{\"outlinewidth\":0,\"ticks\":\"\"}}],\"histogram2d\":[{\"type\":\"histogram2d\",\"colorbar\":{\"outlinewidth\":0,\"ticks\":\"\"},\"colorscale\":[[0.0,\"#0d0887\"],[0.1111111111111111,\"#46039f\"],[0.2222222222222222,\"#7201a8\"],[0.3333333333333333,\"#9c179e\"],[0.4444444444444444,\"#bd3786\"],[0.5555555555555556,\"#d8576b\"],[0.6666666666666666,\"#ed7953\"],[0.7777777777777778,\"#fb9f3a\"],[0.8888888888888888,\"#fdca26\"],[1.0,\"#f0f921\"]]}],\"heatmap\":[{\"type\":\"heatmap\",\"colorbar\":{\"outlinewidth\":0,\"ticks\":\"\"},\"colorscale\":[[0.0,\"#0d0887\"],[0.1111111111111111,\"#46039f\"],[0.2222222222222222,\"#7201a8\"],[0.3333333333333333,\"#9c179e\"],[0.4444444444444444,\"#bd3786\"],[0.5555555555555556,\"#d8576b\"],[0.6666666666666666,\"#ed7953\"],[0.7777777777777778,\"#fb9f3a\"],[0.8888888888888888,\"#fdca26\"],[1.0,\"#f0f921\"]]}],\"heatmapgl\":[{\"type\":\"heatmapgl\",\"colorbar\":{\"outlinewidth\":0,\"ticks\":\"\"},\"colorscale\":[[0.0,\"#0d0887\"],[0.1111111111111111,\"#46039f\"],[0.2222222222222222,\"#7201a8\"],[0.3333333333333333,\"#9c179e\"],[0.4444444444444444,\"#bd3786\"],[0.5555555555555556,\"#d8576b\"],[0.6666666666666666,\"#ed7953\"],[0.7777777777777778,\"#fb9f3a\"],[0.8888888888888888,\"#fdca26\"],[1.0,\"#f0f921\"]]}],\"contourcarpet\":[{\"type\":\"contourcarpet\",\"colorbar\":{\"outlinewidth\":0,\"ticks\":\"\"}}],\"contour\":[{\"type\":\"contour\",\"colorbar\":{\"outlinewidth\":0,\"ticks\":\"\"},\"colorscale\":[[0.0,\"#0d0887\"],[0.1111111111111111,\"#46039f\"],[0.2222222222222222,\"#7201a8\"],[0.3333333333333333,\"#9c179e\"],[0.4444444444444444,\"#bd3786\"],[0.5555555555555556,\"#d8576b\"],[0.6666666666666666,\"#ed7953\"],[0.7777777777777778,\"#fb9f3a\"],[0.8888888888888888,\"#fdca26\"],[1.0,\"#f0f921\"]]}],\"surface\":[{\"type\":\"surface\",\"colorbar\":{\"outlinewidth\":0,\"ticks\":\"\"},\"colorscale\":[[0.0,\"#0d0887\"],[0.1111111111111111,\"#46039f\"],[0.2222222222222222,\"#7201a8\"],[0.3333333333333333,\"#9c179e\"],[0.4444444444444444,\"#bd3786\"],[0.5555555555555556,\"#d8576b\"],[0.6666666666666666,\"#ed7953\"],[0.7777777777777778,\"#fb9f3a\"],[0.8888888888888888,\"#fdca26\"],[1.0,\"#f0f921\"]]}],\"mesh3d\":[{\"type\":\"mesh3d\",\"colorbar\":{\"outlinewidth\":0,\"ticks\":\"\"}}],\"scatter\":[{\"fillpattern\":{\"fillmode\":\"overlay\",\"size\":10,\"solidity\":0.2},\"type\":\"scatter\"}],\"parcoords\":[{\"type\":\"parcoords\",\"line\":{\"colorbar\":{\"outlinewidth\":0,\"ticks\":\"\"}}}],\"scatterpolargl\":[{\"type\":\"scatterpolargl\",\"marker\":{\"colorbar\":{\"outlinewidth\":0,\"ticks\":\"\"}}}],\"bar\":[{\"error_x\":{\"color\":\"#2a3f5f\"},\"error_y\":{\"color\":\"#2a3f5f\"},\"marker\":{\"line\":{\"color\":\"#E5ECF6\",\"width\":0.5},\"pattern\":{\"fillmode\":\"overlay\",\"size\":10,\"solidity\":0.2}},\"type\":\"bar\"}],\"scattergeo\":[{\"type\":\"scattergeo\",\"marker\":{\"colorbar\":{\"outlinewidth\":0,\"ticks\":\"\"}}}],\"scatterpolar\":[{\"type\":\"scatterpolar\",\"marker\":{\"colorbar\":{\"outlinewidth\":0,\"ticks\":\"\"}}}],\"histogram\":[{\"marker\":{\"pattern\":{\"fillmode\":\"overlay\",\"size\":10,\"solidity\":0.2}},\"type\":\"histogram\"}],\"scattergl\":[{\"type\":\"scattergl\",\"marker\":{\"colorbar\":{\"outlinewidth\":0,\"ticks\":\"\"}}}],\"scatter3d\":[{\"type\":\"scatter3d\",\"line\":{\"colorbar\":{\"outlinewidth\":0,\"ticks\":\"\"}},\"marker\":{\"colorbar\":{\"outlinewidth\":0,\"ticks\":\"\"}}}],\"scattermapbox\":[{\"type\":\"scattermapbox\",\"marker\":{\"colorbar\":{\"outlinewidth\":0,\"ticks\":\"\"}}}],\"scatterternary\":[{\"type\":\"scatterternary\",\"marker\":{\"colorbar\":{\"outlinewidth\":0,\"ticks\":\"\"}}}],\"scattercarpet\":[{\"type\":\"scattercarpet\",\"marker\":{\"colorbar\":{\"outlinewidth\":0,\"ticks\":\"\"}}}],\"carpet\":[{\"aaxis\":{\"endlinecolor\":\"#2a3f5f\",\"gridcolor\":\"white\",\"linecolor\":\"white\",\"minorgridcolor\":\"white\",\"startlinecolor\":\"#2a3f5f\"},\"baxis\":{\"endlinecolor\":\"#2a3f5f\",\"gridcolor\":\"white\",\"linecolor\":\"white\",\"minorgridcolor\":\"white\",\"startlinecolor\":\"#2a3f5f\"},\"type\":\"carpet\"}],\"table\":[{\"cells\":{\"fill\":{\"color\":\"#EBF0F8\"},\"line\":{\"color\":\"white\"}},\"header\":{\"fill\":{\"color\":\"#C8D4E3\"},\"line\":{\"color\":\"white\"}},\"type\":\"table\"}],\"barpolar\":[{\"marker\":{\"line\":{\"color\":\"#E5ECF6\",\"width\":0.5},\"pattern\":{\"fillmode\":\"overlay\",\"size\":10,\"solidity\":0.2}},\"type\":\"barpolar\"}],\"pie\":[{\"automargin\":true,\"type\":\"pie\"}]},\"layout\":{\"autotypenumbers\":\"strict\",\"colorway\":[\"#636efa\",\"#EF553B\",\"#00cc96\",\"#ab63fa\",\"#FFA15A\",\"#19d3f3\",\"#FF6692\",\"#B6E880\",\"#FF97FF\",\"#FECB52\"],\"font\":{\"color\":\"#2a3f5f\"},\"hovermode\":\"closest\",\"hoverlabel\":{\"align\":\"left\"},\"paper_bgcolor\":\"white\",\"plot_bgcolor\":\"#E5ECF6\",\"polar\":{\"bgcolor\":\"#E5ECF6\",\"angularaxis\":{\"gridcolor\":\"white\",\"linecolor\":\"white\",\"ticks\":\"\"},\"radialaxis\":{\"gridcolor\":\"white\",\"linecolor\":\"white\",\"ticks\":\"\"}},\"ternary\":{\"bgcolor\":\"#E5ECF6\",\"aaxis\":{\"gridcolor\":\"white\",\"linecolor\":\"white\",\"ticks\":\"\"},\"baxis\":{\"gridcolor\":\"white\",\"linecolor\":\"white\",\"ticks\":\"\"},\"caxis\":{\"gridcolor\":\"white\",\"linecolor\":\"white\",\"ticks\":\"\"}},\"coloraxis\":{\"colorbar\":{\"outlinewidth\":0,\"ticks\":\"\"}},\"colorscale\":{\"sequential\":[[0.0,\"#0d0887\"],[0.1111111111111111,\"#46039f\"],[0.2222222222222222,\"#7201a8\"],[0.3333333333333333,\"#9c179e\"],[0.4444444444444444,\"#bd3786\"],[0.5555555555555556,\"#d8576b\"],[0.6666666666666666,\"#ed7953\"],[0.7777777777777778,\"#fb9f3a\"],[0.8888888888888888,\"#fdca26\"],[1.0,\"#f0f921\"]],\"sequentialminus\":[[0.0,\"#0d0887\"],[0.1111111111111111,\"#46039f\"],[0.2222222222222222,\"#7201a8\"],[0.3333333333333333,\"#9c179e\"],[0.4444444444444444,\"#bd3786\"],[0.5555555555555556,\"#d8576b\"],[0.6666666666666666,\"#ed7953\"],[0.7777777777777778,\"#fb9f3a\"],[0.8888888888888888,\"#fdca26\"],[1.0,\"#f0f921\"]],\"diverging\":[[0,\"#8e0152\"],[0.1,\"#c51b7d\"],[0.2,\"#de77ae\"],[0.3,\"#f1b6da\"],[0.4,\"#fde0ef\"],[0.5,\"#f7f7f7\"],[0.6,\"#e6f5d0\"],[0.7,\"#b8e186\"],[0.8,\"#7fbc41\"],[0.9,\"#4d9221\"],[1,\"#276419\"]]},\"xaxis\":{\"gridcolor\":\"white\",\"linecolor\":\"white\",\"ticks\":\"\",\"title\":{\"standoff\":15},\"zerolinecolor\":\"white\",\"automargin\":true,\"zerolinewidth\":2},\"yaxis\":{\"gridcolor\":\"white\",\"linecolor\":\"white\",\"ticks\":\"\",\"title\":{\"standoff\":15},\"zerolinecolor\":\"white\",\"automargin\":true,\"zerolinewidth\":2},\"scene\":{\"xaxis\":{\"backgroundcolor\":\"#E5ECF6\",\"gridcolor\":\"white\",\"linecolor\":\"white\",\"showbackground\":true,\"ticks\":\"\",\"zerolinecolor\":\"white\",\"gridwidth\":2},\"yaxis\":{\"backgroundcolor\":\"#E5ECF6\",\"gridcolor\":\"white\",\"linecolor\":\"white\",\"showbackground\":true,\"ticks\":\"\",\"zerolinecolor\":\"white\",\"gridwidth\":2},\"zaxis\":{\"backgroundcolor\":\"#E5ECF6\",\"gridcolor\":\"white\",\"linecolor\":\"white\",\"showbackground\":true,\"ticks\":\"\",\"zerolinecolor\":\"white\",\"gridwidth\":2}},\"shapedefaults\":{\"line\":{\"color\":\"#2a3f5f\"}},\"annotationdefaults\":{\"arrowcolor\":\"#2a3f5f\",\"arrowhead\":0,\"arrowwidth\":1},\"geo\":{\"bgcolor\":\"white\",\"landcolor\":\"#E5ECF6\",\"subunitcolor\":\"white\",\"showland\":true,\"showlakes\":true,\"lakecolor\":\"white\"},\"title\":{\"x\":0.05},\"mapbox\":{\"style\":\"light\"}}},\"xaxis\":{\"anchor\":\"y\",\"domain\":[0.0,1.0],\"title\":{\"text\":\"PC0\"}},\"yaxis\":{\"anchor\":\"x\",\"domain\":[0.0,1.0],\"title\":{\"text\":\"PC1\"}},\"legend\":{\"title\":{\"text\":\"series\"},\"tracegroupgap\":0,\"itemsizing\":\"constant\"},\"margin\":{\"t\":60}},                        {\"responsive\": true}                    ).then(function(){\n",
       "                            \n",
       "var gd = document.getElementById('0e5c4830-3f16-4893-adea-72cca6a5c4d5');\n",
       "var x = new MutationObserver(function (mutations, observer) {{\n",
       "        var display = window.getComputedStyle(gd).display;\n",
       "        if (!display || display === 'none') {{\n",
       "            console.log([gd, 'removed!']);\n",
       "            Plotly.purge(gd);\n",
       "            observer.disconnect();\n",
       "        }}\n",
       "}});\n",
       "\n",
       "// Listen for the removal of the full notebook cells\n",
       "var notebookContainer = gd.closest('#notebook-container');\n",
       "if (notebookContainer) {{\n",
       "    x.observe(notebookContainer, {childList: true});\n",
       "}}\n",
       "\n",
       "// Listen for the clearing of the current output cell\n",
       "var outputEl = gd.closest('.output');\n",
       "if (outputEl) {{\n",
       "    x.observe(outputEl, {childList: true});\n",
       "}}\n",
       "\n",
       "                        })                };                });            </script>        </div>"
      ]
     },
     "metadata": {},
     "output_type": "display_data"
    }
   ],
   "source": [
    "vis_pcs(df, 0, 1, label='series', size='mean_doc_weight')"
   ]
  },
  {
   "cell_type": "code",
   "execution_count": null,
   "id": "af1393e7-efcf-49eb-adb1-e20b6402c140",
   "metadata": {},
   "outputs": [],
   "source": []
  }
 ],
 "metadata": {
  "kernelspec": {
   "display_name": "Python 3 (ipykernel)",
   "language": "python",
   "name": "python3"
  },
  "language_info": {
   "codemirror_mode": {
    "name": "ipython",
    "version": 3
   },
   "file_extension": ".py",
   "mimetype": "text/x-python",
   "name": "python",
   "nbconvert_exporter": "python",
   "pygments_lexer": "ipython3",
   "version": "3.11.4"
  }
 },
 "nbformat": 4,
 "nbformat_minor": 5
}
